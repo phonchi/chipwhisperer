{
 "cells": [
  {
   "cell_type": "markdown",
   "metadata": {},
   "source": [
    "## Cpature Hardware\n",
    "\n",
    "```\n",
    "Hardware: \n",
    "['Generic Settings', 'Scope Module', 'ChipWhisperer/OpenADC']\n",
    "['ChipWhisperer/OpenADC Interface', 'connection', 'FTDI (SASEBO-W/SAKURA-G)']\n",
    "['Generic Settings', 'Target Module', 'SAKURA G']\n",
    "['Generic Settings', 'Target Frequency', '48M']\n",
    "['Generic Settings', 'Trace Format', 'Numpy']\n",
    "['Key/Text Pattern', 'Plaintext', 'Fixed']\n",
    "['OpenADC', 'Trigger Setup', 'Total Samples', 400]\n",
    "['OpenADC', 'Trigger Setup', 'Offset', 0]\n",
    "['OpenADC', 'Gain Setting', 'Setting', 40]\n",
    "['OpenADC', 'Trigger Setup', 'Mode', 'falling edge']\n",
    "['OpenADC', 'Clock Setup', 'ADC Clock', 'Source', 'CLKGEN x1 via DCM']\n",
    "```\n",
    "\n",
    "## Analyzing Software"
   ]
  },
  {
   "cell_type": "code",
   "execution_count": 1,
   "metadata": {
    "collapsed": false
   },
   "outputs": [
    {
     "data": {
      "application/json": {
       "Software versions": [
        {
         "module": "Python",
         "version": "2.7.11 64bit [MSC v.1500 64 bit (AMD64)]"
        },
        {
         "module": "IPython",
         "version": "4.0.3"
        },
        {
         "module": "OS",
         "version": "Windows 7 6.1.7601 SP1"
        },
        {
         "module": "numpy",
         "version": "1.10.4"
        },
        {
         "module": "scipy",
         "version": "0.17.0"
        },
        {
         "module": "matplotlib",
         "version": "1.5.1"
        },
        {
         "module": "sympy",
         "version": "0.7.6.1"
        },
        {
         "module": "version_information",
         "version": "1.0.3"
        }
       ]
      },
      "text/html": [
       "<table><tr><th>Software</th><th>Version</th></tr><tr><td>Python</td><td>2.7.11 64bit [MSC v.1500 64 bit (AMD64)]</td></tr><tr><td>IPython</td><td>4.0.3</td></tr><tr><td>OS</td><td>Windows 7 6.1.7601 SP1</td></tr><tr><td>numpy</td><td>1.10.4</td></tr><tr><td>scipy</td><td>0.17.0</td></tr><tr><td>matplotlib</td><td>1.5.1</td></tr><tr><td>sympy</td><td>0.7.6.1</td></tr><tr><td>version_information</td><td>1.0.3</td></tr><tr><td colspan='2'>Thu Jun 23 15:08:49 2016 台北標準時間</td></tr></table>"
      ],
      "text/latex": [
       "\\begin{tabular}{|l|l|}\\hline\n",
       "{\\bf Software} & {\\bf Version} \\\\ \\hline\\hline\n",
       "Python & 2.7.11 64bit [MSC v.1500 64 bit (AMD64)] \\\\ \\hline\n",
       "IPython & 4.0.3 \\\\ \\hline\n",
       "OS & Windows 7 6.1.7601 SP1 \\\\ \\hline\n",
       "numpy & 1.10.4 \\\\ \\hline\n",
       "scipy & 0.17.0 \\\\ \\hline\n",
       "matplotlib & 1.5.1 \\\\ \\hline\n",
       "sympy & 0.7.6.1 \\\\ \\hline\n",
       "version_information & 1.0.3 \\\\ \\hline\n",
       "\\hline \\multicolumn{2}{|l|}{Thu Jun 23 15:08:49 2016 台北標準時間} \\\\ \\hline\n",
       "\\end{tabular}\n"
      ],
      "text/plain": [
       "Software versions\n",
       "Python 2.7.11 64bit [MSC v.1500 64 bit (AMD64)]\n",
       "IPython 4.0.3\n",
       "OS Windows 7 6.1.7601 SP1\n",
       "numpy 1.10.4\n",
       "scipy 0.17.0\n",
       "matplotlib 1.5.1\n",
       "sympy 0.7.6.1\n",
       "version_information 1.0.3\n",
       "Thu Jun 23 15:08:49 2016 台北標準時間"
      ]
     },
     "execution_count": 1,
     "metadata": {},
     "output_type": "execute_result"
    }
   ],
   "source": [
    "%load_ext version_information\n",
    "%version_information numpy, scipy, matplotlib, sympy, version_information"
   ]
  },
  {
   "cell_type": "code",
   "execution_count": 2,
   "metadata": {
    "collapsed": true
   },
   "outputs": [],
   "source": [
    "import numpy as np\n",
    "import scipy.io\n",
    "import matplotlib.pyplot as plt\n",
    "%matplotlib inline\n",
    "import seaborn; seaborn.set()"
   ]
  },
  {
   "cell_type": "code",
   "execution_count": 3,
   "metadata": {
    "collapsed": false
   },
   "outputs": [],
   "source": [
    "key = np.load('AES_8000t_data/traces/2016.06.16-14.41.00_knownkey.npy')"
   ]
  },
  {
   "cell_type": "code",
   "execution_count": 4,
   "metadata": {
    "collapsed": false
   },
   "outputs": [],
   "source": [
    "from chipwhisperer.common.utils.util import hexstr2list\n",
    "keystr = \"\".join([\"%02x \"%k for k in key])\n",
    "keydata = hexstr2list(keystr)"
   ]
  },
  {
   "cell_type": "code",
   "execution_count": 5,
   "metadata": {
    "collapsed": false
   },
   "outputs": [
    {
     "name": "stdout",
     "output_type": "stream",
     "text": [
      "['00', '01', '02', '03', '04', '05', '06', '07', '08', 'f7', '15', '88', '09', 'cf', '4f', '3c']\n",
      "['8b', '85', 'e9', '02', '8f', '80', 'ef', '05', '87', '77', 'fa', '8d', '8e', 'b8', 'b5', 'b1']\n",
      "['e5', '50', '21', '1b', '6a', 'd0', 'ce', '1e', 'ed', 'a7', '34', '93', '63', '1f', '81', '22']\n",
      "['21', '5c', 'b2', 'e0', '4b', '8c', '7c', 'fe', 'a6', '2b', '48', '6d', 'c5', '34', 'c9', '4f']\n",
      "['31', '81', '36', '46', '7a', '0d', '4a', 'b8', 'dc', '26', '02', 'd5', '19', '12', 'cb', '9a']\n",
      "['e8', '9e', '8e', '92', '92', '93', 'c4', '2a', '4e', 'b5', 'c6', 'ff', '57', 'a7', '0d', '65']\n",
      "['94', '49', 'c3', 'c9', '06', 'da', '07', 'e3', '48', '6f', 'c1', '1c', '1f', 'c8', 'cc', '79']\n",
      "['3c', '02', '75', '09', '3a', 'd8', '72', 'ea', '72', 'b7', 'b3', 'f6', '6d', '7f', '7f', '8f']\n",
      "['6e', 'd0', '06', '35', '54', '08', '74', 'df', '26', 'bf', 'c7', '29', '4b', 'c0', 'b8', 'a6']\n",
      "['cf', 'bc', '22', '86', '9b', 'b4', '56', '59', 'bd', '0b', '91', '70', 'f6', 'cb', '29', 'd6']\n",
      "['e6', '19', 'd4', 'c4', '7d', 'ad', '82', '9d', 'c0', 'a6', '13', 'ed', '36', '6d', '3a', '3b']\n"
     ]
    }
   ],
   "source": [
    "from chipwhisperer.analyzer.models.aes.key_schedule import keyScheduleRounds\n",
    "totalrndstr = \"\"\n",
    "for r in range(0, 10+1):\n",
    "    result = keyScheduleRounds(keydata, 0, r)\n",
    "    rstr = [\"%02x\" % t for t in result]\n",
    "    print rstr\n",
    "    if r == 10:\n",
    "        roundkey = rstr\n",
    "    #rstr = (delim[1] + delim[0]).join(rstr)\n",
    "    #rstr = delim[0] + rstr\n",
    "    #totalrndstr += rstr + \"\\n\""
   ]
  },
  {
   "cell_type": "markdown",
   "metadata": {},
   "source": [
    "## Corr VS Traces\n",
    "\n",
    "The traces is collected using the ``save correlation`` mode"
   ]
  },
  {
   "cell_type": "code",
   "execution_count": 6,
   "metadata": {
    "collapsed": false
   },
   "outputs": [],
   "source": [
    "a = np.load('AES_8000t_data/analysis/tempstats_20160616_160848.npy')"
   ]
  },
  {
   "cell_type": "code",
   "execution_count": 7,
   "metadata": {
    "collapsed": false
   },
   "outputs": [],
   "source": [
    "maxl = a[0]['maxlist']\n",
    "data = a[0]['data']\n",
    "\n",
    "enabledlist = []\n",
    "for bnum in range(0, 16):\n",
    "    enabledlist.append(bnum)\n",
    "\n",
    "xrangelist = [0] * 256\n",
    "newdata = [0] * 256 \n",
    "for bnum in enabledlist:\n",
    "    maxdata = maxl[bnum]\n",
    "    tlist = []\n",
    "    for m in maxdata:\n",
    "        tlist.append(m['trace'])\n",
    "    maxlist = np.zeros((len(data[bnum]), len(tlist)))\n",
    "    for i, m in enumerate(maxdata):\n",
    "        for j in range(0, len(data[bnum])):\n",
    "            maxlist[m['maxes'][j][0], i] = m['maxes'][j][2]\n",
    "\n",
    "    newdata[bnum] = maxlist\n",
    "    xrangelist[bnum] = tlist"
   ]
  },
  {
   "cell_type": "code",
   "execution_count": 8,
   "metadata": {
    "collapsed": false
   },
   "outputs": [
    {
     "data": {
      "text/plain": [
       "(256L, 80L)"
      ]
     },
     "execution_count": 8,
     "metadata": {},
     "output_type": "execute_result"
    }
   ],
   "source": [
    "maxlist.shape"
   ]
  },
  {
   "cell_type": "code",
   "execution_count": 9,
   "metadata": {
    "collapsed": false
   },
   "outputs": [
    {
     "data": {
      "image/png": "[encoded data removed]",
      "text/plain": [
       "<matplotlib.figure.Figure at 0xb16bb38>"
      ]
     },
     "metadata": {},
     "output_type": "display_data"
    }
   ],
   "source": [
    "plt.xlabel('Number of Traces')\n",
    "plt.ylabel('Correlation Coefficient')\n",
    "for i in range(16):\n",
    "    for j in range(256):\n",
    "        if (\"%0.2x\" % j) == roundkey[i]:\n",
    "            plt.plot(tlist, newdata[i][j], 'r')\n",
    "        else:\n",
    "            plt.plot(tlist, newdata[i][j], 'g', alpha=0.1)"
   ]
  },
  {
   "cell_type": "markdown",
   "metadata": {},
   "source": [
    "## Output VS Time\n",
    "We attack the last round of AES implementation using Hamming Distance model"
   ]
  },
  {
   "cell_type": "code",
   "execution_count": 10,
   "metadata": {
    "collapsed": true
   },
   "outputs": [],
   "source": [
    "samplepoint = a[0]['xrange']\n",
    "data = a[0]['data']"
   ]
  },
  {
   "cell_type": "code",
   "execution_count": 11,
   "metadata": {
    "collapsed": false
   },
   "outputs": [
    {
     "data": {
      "text/plain": [
       "(256, 396)"
      ]
     },
     "execution_count": 11,
     "metadata": {},
     "output_type": "execute_result"
    }
   ],
   "source": [
    "len(samplepoint), len(data[0][0])"
   ]
  },
  {
   "cell_type": "code",
   "execution_count": null,
   "metadata": {
    "collapsed": false
   },
   "outputs": [],
   "source": [
    "plt.xlabel('Sample Point')\n",
    "plt.ylabel('Correlation Coefficient')\n",
    "flag =[0]*16\n",
    "for i in range(16):\n",
    "    for j in range(256):\n",
    "        if (\"%0.2x\" % j) == roundkey[i]:\n",
    "            flag[i] = j;\n",
    "        else:\n",
    "            plt.plot(samplepoint[0],data[i][j], 'g', alpha=0.1)\n",
    "for i in range(16):\n",
    "    plt.plot(samplepoint[0],data[i][flag[i]], 'r')"
   ]
  },
  {
   "cell_type": "markdown",
   "metadata": {},
   "source": [
    "## PGE VS Trace\n",
    "\n",
    "The data is collecting using the ``save pge`` mode"
   ]
  },
  {
   "cell_type": "code",
   "execution_count": null,
   "metadata": {
    "collapsed": true
   },
   "outputs": [],
   "source": [
    "a = np.load('AES_8000t_data/analysis/tempstats_20160616_150458.npy')"
   ]
  },
  {
   "cell_type": "code",
   "execution_count": null,
   "metadata": {
    "collapsed": false
   },
   "outputs": [],
   "source": [
    "allpge = a[79]['pge']"
   ]
  },
  {
   "cell_type": "code",
   "execution_count": null,
   "metadata": {
    "collapsed": false,
    "scrolled": true
   },
   "outputs": [],
   "source": [
    "plt.xlabel('Trace Number')\n",
    "plt.ylabel('Partial Gaussian Entropy')\n",
    "for bnum in range(0, 16):\n",
    "    trace = []\n",
    "    pge = []\n",
    "    for (tnum, plist) in allpge.iteritems():\n",
    "        if plist[bnum]['pge'] is not None:\n",
    "            trace.append(tnum)\n",
    "            pge.append(plist[bnum]['pge'])\n",
    "    plt.plot(trace, pge)"
   ]
  }
 ],
 "metadata": {
  "kernelspec": {
   "display_name": "Python 2",
   "language": "python",
   "name": "python2"
  },
  "language_info": {
   "codemirror_mode": {
    "name": "ipython",
    "version": 2
   },
   "file_extension": ".py",
   "mimetype": "text/x-python",
   "name": "python",
   "nbconvert_exporter": "python",
   "pygments_lexer": "ipython2",
   "version": "2.7.11"
  }
 },
 "nbformat": 4,
 "nbformat_minor": 0
}
